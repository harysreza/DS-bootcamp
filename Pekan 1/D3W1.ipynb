{
 "metadata": {
  "language_info": {
   "codemirror_mode": {
    "name": "ipython",
    "version": 3
   },
   "file_extension": ".py",
   "mimetype": "text/x-python",
   "name": "python",
   "nbconvert_exporter": "python",
   "pygments_lexer": "ipython3",
   "version": "3.8.5-final"
  },
  "orig_nbformat": 2,
  "kernelspec": {
   "name": "python3",
   "display_name": "Python 3",
   "language": "python"
  }
 },
 "nbformat": 4,
 "nbformat_minor": 2,
 "cells": [
  {
   "cell_type": "code",
   "execution_count": 3,
   "metadata": {},
   "outputs": [
    {
     "output_type": "stream",
     "name": "stdout",
     "text": [
      "Mercury Venus Earth Mars Jupiter Saturn Uranus Neptune "
     ]
    }
   ],
   "source": [
    "planets = ['Mercury', 'Venus', 'Earth', 'Mars', 'Jupiter', 'Saturn', 'Uranus', 'Neptune']\n",
    "for planet in planets: #planet disini dimaksudkan bahwa kita memberikan nama variabel planet\n",
    "    print(planet, end=' ') # print all on same line"
   ]
  },
  {
   "cell_type": "code",
   "execution_count": 2,
   "metadata": {},
   "outputs": [
    {
     "output_type": "stream",
     "name": "stdout",
     "text": [
      "Finish\n"
     ]
    }
   ],
   "source": [
    "a = int(input())\n",
    "b = int(input())\n",
    "\n",
    "try:\n",
    "    c = a/b\n",
    "except Exception as e:\n",
    "    print('raising error in:', e)\n",
    "finally:\n",
    "    print('Finish')"
   ]
  },
  {
   "source": [
    "## If Else"
   ],
   "cell_type": "markdown",
   "metadata": {}
  },
  {
   "cell_type": "code",
   "execution_count": 7,
   "metadata": {},
   "outputs": [
    {
     "output_type": "stream",
     "name": "stdout",
     "text": [
      "Nilai anda =  75\nNilai anda =  80\n"
     ]
    }
   ],
   "source": [
    "nilai1 = 75\n",
    "nilai2 = 80\n",
    "\n",
    "if nilai1 == 75:\n",
    "    print(\"Nilai anda = \",nilai1)\n",
    "    if nilai2 == 80:\n",
    "        print(\"Nilai anda = \",nilai2)"
   ]
  },
  {
   "source": [
    "## Teknik Looping"
   ],
   "cell_type": "markdown",
   "metadata": {}
  },
  {
   "cell_type": "code",
   "execution_count": 12,
   "metadata": {},
   "outputs": [
    {
     "output_type": "stream",
     "name": "stdout",
     "text": [
      "satu memiliki umur : 20\ndua memiliki umur : 25\ntiga memiliki umur : 30\nempat memiliki umur : 35\n"
     ]
    }
   ],
   "source": [
    "nama = ['satu','dua','tiga','empat']\n",
    "umur = ['20','25','30','35']\n",
    "\n",
    "#for i, nama in enumerate(nama):\n",
    "    #print(i,nama)\n",
    "\n",
    "for nama, umur in zip(nama,umur):\n",
    "    print(nama, 'memiliki umur :',umur)"
   ]
  },
  {
   "cell_type": "code",
   "execution_count": null,
   "metadata": {},
   "outputs": [],
   "source": []
  }
 ]
}